{
 "cells": [
  {
   "cell_type": "code",
   "execution_count": 1,
   "metadata": {},
   "outputs": [],
   "source": [
    "import numpy as np\n",
    "import pandas as pd"
   ]
  },
  {
   "cell_type": "code",
   "execution_count": 2,
   "metadata": {},
   "outputs": [],
   "source": [
    "df = pd.read_excel(\"total.xlsx\")"
   ]
  },
  {
   "cell_type": "code",
   "execution_count": 5,
   "metadata": {},
   "outputs": [
    {
     "data": {
      "text/plain": [
       "Index(['광역시도명', '도시명', '범죄대분류', '범죄발생건수', '범죄발생년도', '범죄중분류'], dtype='object')"
      ]
     },
     "execution_count": 5,
     "metadata": {},
     "output_type": "execute_result"
    }
   ],
   "source": [
    "df.columns"
   ]
  },
  {
   "cell_type": "code",
   "execution_count": 22,
   "metadata": {},
   "outputs": [],
   "source": [
    "big_list = list(df['범죄대분류'].value_counts().to_frame().index)"
   ]
  },
  {
   "cell_type": "code",
   "execution_count": 23,
   "metadata": {},
   "outputs": [],
   "source": [
    "mid_list = list(df['범죄중분류'].value_counts().to_frame().index)"
   ]
  },
  {
   "cell_type": "code",
   "execution_count": 25,
   "metadata": {},
   "outputs": [
    {
     "data": {
      "text/plain": [
       "'지능범죄'"
      ]
     },
     "execution_count": 25,
     "metadata": {},
     "output_type": "execute_result"
    }
   ],
   "source": [
    "big_list[0]"
   ]
  },
  {
   "cell_type": "code",
   "execution_count": 26,
   "metadata": {},
   "outputs": [
    {
     "data": {
      "text/plain": [
       "'횡령'"
      ]
     },
     "execution_count": 26,
     "metadata": {},
     "output_type": "execute_result"
    }
   ],
   "source": [
    "mid_list[0]"
   ]
  },
  {
   "cell_type": "code",
   "execution_count": 7,
   "metadata": {},
   "outputs": [
    {
     "name": "stdout",
     "output_type": "stream",
     "text": [
      "경기    1672\n",
      "경북     608\n",
      "경남     532\n",
      "충남     456\n",
      "강원     380\n",
      "전북     380\n",
      "전남     304\n",
      "충북     228\n",
      "기타     152\n",
      "제주     114\n",
      "대구      76\n",
      "울산      76\n",
      "서울      76\n",
      "광주      76\n",
      "인천      76\n",
      "대전      76\n",
      "부산      76\n",
      "세종      38\n",
      "Name: 광역시도명, dtype: int64\n",
      "광주    114\n",
      "용인     76\n",
      "부천     76\n",
      "천안     76\n",
      "정읍     76\n",
      "     ... \n",
      "태백     38\n",
      "계룡     38\n",
      "남원     38\n",
      "삼척     38\n",
      "영천     38\n",
      "Name: 도시명, Length: 87, dtype: int64\n",
      "지능범죄          1224\n",
      "강력범죄          1082\n",
      "폭력범죄          1028\n",
      "풍속범죄           284\n",
      "노동범죄           142\n",
      "선거범죄           142\n",
      "안보범죄           142\n",
      "환경범죄           142\n",
      "절도범죄           142\n",
      "마약범죄           142\n",
      "병역범죄           142\n",
      "보건범죄           142\n",
      "교통범죄           142\n",
      "특별경제범죄         142\n",
      "기타범죄            88\n",
      "기타              54\n",
      "기타강간 강제추행등      54\n",
      "문서 인장           54\n",
      "약취 유인           54\n",
      "체포 감금           54\n",
      "Name: 범죄대분류, dtype: int64\n",
      "-       461\n",
      "1       345\n",
      "2       269\n",
      "3       195\n",
      "4       172\n",
      "       ... \n",
      "208       1\n",
      "1297      1\n",
      "3130      1\n",
      "1391      1\n",
      "4839      1\n",
      "Name: 범죄발생건수, Length: 1222, dtype: int64\n",
      "2015    3344\n",
      "2014    2052\n",
      "Name: 범죄발생년도, dtype: int64\n",
      "횡령             142\n",
      "성풍속범죄          142\n",
      "약취 유인          142\n",
      "문서 인장          142\n",
      "공갈             142\n",
      "통화             142\n",
      "손괴             142\n",
      "협박             142\n",
      "도박범죄           142\n",
      "특별경제범죄         142\n",
      "보건범죄           142\n",
      "배임             142\n",
      "유가증권인지         142\n",
      "사기             142\n",
      "선거범죄           142\n",
      "교통범죄           142\n",
      "폭력행위등          142\n",
      "체포 감금          142\n",
      "살인미수등          142\n",
      "상해             142\n",
      "병역범죄           142\n",
      "살인기수           142\n",
      "강제추행           142\n",
      "유사강간           142\n",
      "안보범죄           142\n",
      "환경범죄           142\n",
      "강도             142\n",
      "노동범죄           142\n",
      "직무유기           142\n",
      "방화             142\n",
      "기타 강간 강제추행등    142\n",
      "마약범죄           142\n",
      "증수뢰            142\n",
      "강간             142\n",
      "폭행             142\n",
      "직권남용           142\n",
      "절도              88\n",
      "기타범죄            88\n",
      "절도범죄            54\n",
      "기타              54\n",
      "Name: 범죄중분류, dtype: int64\n"
     ]
    }
   ],
   "source": [
    "for col in df.columns:\n",
    "    print(df[col].value_counts())"
   ]
  },
  {
   "cell_type": "code",
   "execution_count": null,
   "metadata": {},
   "outputs": [],
   "source": []
  }
 ],
 "metadata": {
  "kernelspec": {
   "display_name": "Python 3",
   "language": "python",
   "name": "python3"
  },
  "language_info": {
   "codemirror_mode": {
    "name": "ipython",
    "version": 3
   },
   "file_extension": ".py",
   "mimetype": "text/x-python",
   "name": "python",
   "nbconvert_exporter": "python",
   "pygments_lexer": "ipython3",
   "version": "3.7.7"
  }
 },
 "nbformat": 4,
 "nbformat_minor": 4
}
