{
 "cells": [
  {
   "cell_type": "code",
   "execution_count": 1,
   "metadata": {},
   "outputs": [],
   "source": [
    "import pandas as pd"
   ]
  },
  {
   "cell_type": "code",
   "execution_count": 2,
   "metadata": {},
   "outputs": [],
   "source": [
    "df = pd.read_excel('최종본.xlsx', index_col=0)"
   ]
  },
  {
   "cell_type": "code",
   "execution_count": 5,
   "metadata": {},
   "outputs": [
    {
     "data": {
      "text/plain": [
       "Index(['범죄대분류', '범죄중분류', '지역명', '범죄발생건수', '광역시도명', '도시명', '범죄발생년도'], dtype='object')"
      ]
     },
     "execution_count": 5,
     "metadata": {},
     "output_type": "execute_result"
    }
   ],
   "source": [
    "df.columns"
   ]
  },
  {
   "cell_type": "code",
   "execution_count": 6,
   "metadata": {},
   "outputs": [
    {
     "data": {
      "text/plain": [
       "살인기수           142\n",
       "환경범죄           142\n",
       "선거범죄           142\n",
       "손괴             142\n",
       "유가증권인지         142\n",
       "강간             142\n",
       "통화             142\n",
       "직권남용           142\n",
       "사기             142\n",
       "배임             142\n",
       "직무유기           142\n",
       "노동범죄           142\n",
       "공갈             142\n",
       "유사강간           142\n",
       "강제추행           142\n",
       "횡령             142\n",
       "보건범죄           142\n",
       "증수뢰            142\n",
       "성풍속범죄          142\n",
       "폭행             142\n",
       "강도             142\n",
       "살인미수등          142\n",
       "교통범죄           142\n",
       "안보범죄           142\n",
       "협박             142\n",
       "방화             142\n",
       "상해             142\n",
       "폭력행위등          142\n",
       "도박범죄           142\n",
       "병역범죄           142\n",
       "마약범죄           142\n",
       "특별경제범죄         142\n",
       "기타 강간 강제추행등     88\n",
       "약취 유인           88\n",
       "문서 인장           88\n",
       "절도              88\n",
       "체포 감금           88\n",
       "기타범죄            88\n",
       "문서·인장           54\n",
       "기타강간·강제추행등      54\n",
       "체포·감금           54\n",
       "약취·유인           54\n",
       "절도범죄            54\n",
       "기타              54\n",
       "Name: 범죄중분류, dtype: int64"
      ]
     },
     "execution_count": 6,
     "metadata": {},
     "output_type": "execute_result"
    }
   ],
   "source": [
    "df['범죄중분류'].value_counts()\n"
   ]
  }
 ],
 "metadata": {
  "kernelspec": {
   "display_name": "Python 3",
   "language": "python",
   "name": "python3"
  },
  "language_info": {
   "codemirror_mode": {
    "name": "ipython",
    "version": 3
   },
   "file_extension": ".py",
   "mimetype": "text/x-python",
   "name": "python",
   "nbconvert_exporter": "python",
   "pygments_lexer": "ipython3",
   "version": "3.7.7"
  }
 },
 "nbformat": 4,
 "nbformat_minor": 4
}
